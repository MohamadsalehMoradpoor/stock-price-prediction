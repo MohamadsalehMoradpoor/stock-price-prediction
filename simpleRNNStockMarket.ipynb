{
 "cells": [
  {
   "cell_type": "code",
   "execution_count": 1,
   "id": "b07a6d95",
   "metadata": {},
   "outputs": [],
   "source": [
    "import pandas as pd\n",
    "import numpy as np\n",
    "import matplotlib.pyplot as plt\n",
    "from tensorflow.keras.models import Sequential\n",
    "from tensorflow.keras.layers import Dense, SimpleRNN"
   ]
  },
  {
   "cell_type": "code",
   "execution_count": 2,
   "id": "fefd4743",
   "metadata": {},
   "outputs": [
    {
     "data": {
      "text/html": [
       "<div>\n",
       "<style scoped>\n",
       "    .dataframe tbody tr th:only-of-type {\n",
       "        vertical-align: middle;\n",
       "    }\n",
       "\n",
       "    .dataframe tbody tr th {\n",
       "        vertical-align: top;\n",
       "    }\n",
       "\n",
       "    .dataframe thead th {\n",
       "        text-align: right;\n",
       "    }\n",
       "</style>\n",
       "<table border=\"1\" class=\"dataframe\">\n",
       "  <thead>\n",
       "    <tr style=\"text-align: right;\">\n",
       "      <th></th>\n",
       "      <th>Date</th>\n",
       "      <th>Open</th>\n",
       "      <th>High</th>\n",
       "      <th>Low</th>\n",
       "      <th>Close</th>\n",
       "      <th>Volume</th>\n",
       "      <th>Name</th>\n",
       "    </tr>\n",
       "  </thead>\n",
       "  <tbody>\n",
       "    <tr>\n",
       "      <th>0</th>\n",
       "      <td>2006-01-03</td>\n",
       "      <td>39.69</td>\n",
       "      <td>41.22</td>\n",
       "      <td>38.79</td>\n",
       "      <td>40.91</td>\n",
       "      <td>24232729</td>\n",
       "      <td>AABA</td>\n",
       "    </tr>\n",
       "    <tr>\n",
       "      <th>1</th>\n",
       "      <td>2006-01-04</td>\n",
       "      <td>41.22</td>\n",
       "      <td>41.90</td>\n",
       "      <td>40.77</td>\n",
       "      <td>40.97</td>\n",
       "      <td>20553479</td>\n",
       "      <td>AABA</td>\n",
       "    </tr>\n",
       "    <tr>\n",
       "      <th>2</th>\n",
       "      <td>2006-01-05</td>\n",
       "      <td>40.93</td>\n",
       "      <td>41.73</td>\n",
       "      <td>40.85</td>\n",
       "      <td>41.53</td>\n",
       "      <td>12829610</td>\n",
       "      <td>AABA</td>\n",
       "    </tr>\n",
       "    <tr>\n",
       "      <th>3</th>\n",
       "      <td>2006-01-06</td>\n",
       "      <td>42.88</td>\n",
       "      <td>43.57</td>\n",
       "      <td>42.80</td>\n",
       "      <td>43.21</td>\n",
       "      <td>29422828</td>\n",
       "      <td>AABA</td>\n",
       "    </tr>\n",
       "    <tr>\n",
       "      <th>4</th>\n",
       "      <td>2006-01-09</td>\n",
       "      <td>43.10</td>\n",
       "      <td>43.66</td>\n",
       "      <td>42.82</td>\n",
       "      <td>43.42</td>\n",
       "      <td>16268338</td>\n",
       "      <td>AABA</td>\n",
       "    </tr>\n",
       "  </tbody>\n",
       "</table>\n",
       "</div>"
      ],
      "text/plain": [
       "         Date   Open   High    Low  Close    Volume  Name\n",
       "0  2006-01-03  39.69  41.22  38.79  40.91  24232729  AABA\n",
       "1  2006-01-04  41.22  41.90  40.77  40.97  20553479  AABA\n",
       "2  2006-01-05  40.93  41.73  40.85  41.53  12829610  AABA\n",
       "3  2006-01-06  42.88  43.57  42.80  43.21  29422828  AABA\n",
       "4  2006-01-09  43.10  43.66  42.82  43.42  16268338  AABA"
      ]
     },
     "execution_count": 2,
     "metadata": {},
     "output_type": "execute_result"
    }
   ],
   "source": [
    "data = pd.read_csv('data/AABA_2006-01-01_to_2018-01-01.csv')\n",
    "data.head()"
   ]
  },
  {
   "cell_type": "code",
   "execution_count": 3,
   "id": "a5f9003a",
   "metadata": {},
   "outputs": [
    {
     "name": "stdout",
     "output_type": "stream",
     "text": [
      "<class 'pandas.core.frame.DataFrame'>\n",
      "RangeIndex: 3019 entries, 0 to 3018\n",
      "Data columns (total 7 columns):\n",
      " #   Column  Non-Null Count  Dtype  \n",
      "---  ------  --------------  -----  \n",
      " 0   Date    3019 non-null   object \n",
      " 1   Open    3019 non-null   float64\n",
      " 2   High    3019 non-null   float64\n",
      " 3   Low     3019 non-null   float64\n",
      " 4   Close   3019 non-null   float64\n",
      " 5   Volume  3019 non-null   int64  \n",
      " 6   Name    3019 non-null   object \n",
      "dtypes: float64(4), int64(1), object(2)\n",
      "memory usage: 165.2+ KB\n"
     ]
    }
   ],
   "source": [
    "data.info()"
   ]
  },
  {
   "cell_type": "code",
   "execution_count": 4,
   "id": "60ba3d14",
   "metadata": {},
   "outputs": [
    {
     "data": {
      "text/plain": [
       "Date      0\n",
       "Open      0\n",
       "High      0\n",
       "Low       0\n",
       "Close     0\n",
       "Volume    0\n",
       "Name      0\n",
       "dtype: int64"
      ]
     },
     "execution_count": 4,
     "metadata": {},
     "output_type": "execute_result"
    }
   ],
   "source": [
    "data.isna().sum()"
   ]
  },
  {
   "cell_type": "code",
   "execution_count": 5,
   "id": "157fa82f",
   "metadata": {},
   "outputs": [
    {
     "data": {
      "text/html": [
       "<div>\n",
       "<style scoped>\n",
       "    .dataframe tbody tr th:only-of-type {\n",
       "        vertical-align: middle;\n",
       "    }\n",
       "\n",
       "    .dataframe tbody tr th {\n",
       "        vertical-align: top;\n",
       "    }\n",
       "\n",
       "    .dataframe thead th {\n",
       "        text-align: right;\n",
       "    }\n",
       "</style>\n",
       "<table border=\"1\" class=\"dataframe\">\n",
       "  <thead>\n",
       "    <tr style=\"text-align: right;\">\n",
       "      <th></th>\n",
       "      <th>Open</th>\n",
       "      <th>High</th>\n",
       "      <th>Low</th>\n",
       "      <th>Close</th>\n",
       "      <th>Volume</th>\n",
       "    </tr>\n",
       "  </thead>\n",
       "  <tbody>\n",
       "    <tr>\n",
       "      <th>count</th>\n",
       "      <td>3019.000000</td>\n",
       "      <td>3019.000000</td>\n",
       "      <td>3019.000000</td>\n",
       "      <td>3019.000000</td>\n",
       "      <td>3.019000e+03</td>\n",
       "    </tr>\n",
       "    <tr>\n",
       "      <th>mean</th>\n",
       "      <td>28.426479</td>\n",
       "      <td>28.766532</td>\n",
       "      <td>28.066558</td>\n",
       "      <td>28.412726</td>\n",
       "      <td>2.158391e+07</td>\n",
       "    </tr>\n",
       "    <tr>\n",
       "      <th>std</th>\n",
       "      <td>13.257242</td>\n",
       "      <td>13.356692</td>\n",
       "      <td>13.157326</td>\n",
       "      <td>13.258163</td>\n",
       "      <td>1.926231e+07</td>\n",
       "    </tr>\n",
       "    <tr>\n",
       "      <th>min</th>\n",
       "      <td>9.100000</td>\n",
       "      <td>9.480000</td>\n",
       "      <td>8.940000</td>\n",
       "      <td>8.950000</td>\n",
       "      <td>1.939061e+06</td>\n",
       "    </tr>\n",
       "    <tr>\n",
       "      <th>25%</th>\n",
       "      <td>16.175000</td>\n",
       "      <td>16.385000</td>\n",
       "      <td>15.970000</td>\n",
       "      <td>16.130000</td>\n",
       "      <td>1.248025e+07</td>\n",
       "    </tr>\n",
       "    <tr>\n",
       "      <th>50%</th>\n",
       "      <td>27.180000</td>\n",
       "      <td>27.490000</td>\n",
       "      <td>26.820000</td>\n",
       "      <td>27.100000</td>\n",
       "      <td>1.732130e+07</td>\n",
       "    </tr>\n",
       "    <tr>\n",
       "      <th>75%</th>\n",
       "      <td>36.655000</td>\n",
       "      <td>37.035000</td>\n",
       "      <td>36.305000</td>\n",
       "      <td>36.635000</td>\n",
       "      <td>2.512757e+07</td>\n",
       "    </tr>\n",
       "    <tr>\n",
       "      <th>max</th>\n",
       "      <td>73.020000</td>\n",
       "      <td>73.250000</td>\n",
       "      <td>72.460000</td>\n",
       "      <td>72.930000</td>\n",
       "      <td>4.382317e+08</td>\n",
       "    </tr>\n",
       "  </tbody>\n",
       "</table>\n",
       "</div>"
      ],
      "text/plain": [
       "              Open         High          Low        Close        Volume\n",
       "count  3019.000000  3019.000000  3019.000000  3019.000000  3.019000e+03\n",
       "mean     28.426479    28.766532    28.066558    28.412726  2.158391e+07\n",
       "std      13.257242    13.356692    13.157326    13.258163  1.926231e+07\n",
       "min       9.100000     9.480000     8.940000     8.950000  1.939061e+06\n",
       "25%      16.175000    16.385000    15.970000    16.130000  1.248025e+07\n",
       "50%      27.180000    27.490000    26.820000    27.100000  1.732130e+07\n",
       "75%      36.655000    37.035000    36.305000    36.635000  2.512757e+07\n",
       "max      73.020000    73.250000    72.460000    72.930000  4.382317e+08"
      ]
     },
     "execution_count": 5,
     "metadata": {},
     "output_type": "execute_result"
    }
   ],
   "source": [
    "data.describe()"
   ]
  },
  {
   "cell_type": "code",
   "execution_count": 6,
   "id": "40aadd8f",
   "metadata": {},
   "outputs": [
    {
     "data": {
      "text/html": [
       "<div>\n",
       "<style scoped>\n",
       "    .dataframe tbody tr th:only-of-type {\n",
       "        vertical-align: middle;\n",
       "    }\n",
       "\n",
       "    .dataframe tbody tr th {\n",
       "        vertical-align: top;\n",
       "    }\n",
       "\n",
       "    .dataframe thead th {\n",
       "        text-align: right;\n",
       "    }\n",
       "</style>\n",
       "<table border=\"1\" class=\"dataframe\">\n",
       "  <thead>\n",
       "    <tr style=\"text-align: right;\">\n",
       "      <th></th>\n",
       "      <th>Open</th>\n",
       "    </tr>\n",
       "  </thead>\n",
       "  <tbody>\n",
       "    <tr>\n",
       "      <th>0</th>\n",
       "      <td>39.69</td>\n",
       "    </tr>\n",
       "    <tr>\n",
       "      <th>1</th>\n",
       "      <td>41.22</td>\n",
       "    </tr>\n",
       "    <tr>\n",
       "      <th>2</th>\n",
       "      <td>40.93</td>\n",
       "    </tr>\n",
       "    <tr>\n",
       "      <th>3</th>\n",
       "      <td>42.88</td>\n",
       "    </tr>\n",
       "    <tr>\n",
       "      <th>4</th>\n",
       "      <td>43.10</td>\n",
       "    </tr>\n",
       "  </tbody>\n",
       "</table>\n",
       "</div>"
      ],
      "text/plain": [
       "    Open\n",
       "0  39.69\n",
       "1  41.22\n",
       "2  40.93\n",
       "3  42.88\n",
       "4  43.10"
      ]
     },
     "execution_count": 6,
     "metadata": {},
     "output_type": "execute_result"
    }
   ],
   "source": [
    "data = data[['Open']]\n",
    "data.head()"
   ]
  },
  {
   "cell_type": "code",
   "execution_count": 8,
   "id": "f8e1c7d5",
   "metadata": {},
   "outputs": [
    {
     "data": {
      "text/plain": [
       "[<matplotlib.lines.Line2D at 0x2909303c670>]"
      ]
     },
     "execution_count": 8,
     "metadata": {},
     "output_type": "execute_result"
    },
    {
     "data": {
      "image/png": "[encoded data removed]",
      "text/plain": [
       "<Figure size 432x288 with 1 Axes>"
      ]
     },
     "metadata": {
      "needs_background": "light"
     },
     "output_type": "display_data"
    }
   ],
   "source": [
    "plt.plot(data['Open'])"
   ]
  },
  {
   "cell_type": "code",
   "execution_count": 11,
   "id": "b6c77a1e",
   "metadata": {},
   "outputs": [],
   "source": [
    "X = data['Open'].values"
   ]
  },
  {
   "cell_type": "code",
   "execution_count": 13,
   "id": "2ae358f7",
   "metadata": {},
   "outputs": [
    {
     "data": {
      "text/plain": [
       "array([39.69, 41.22, 40.93, 42.88, 43.1 , 42.96, 42.19, 41.92, 41.  ,\n",
       "       39.09])"
      ]
     },
     "execution_count": 13,
     "metadata": {},
     "output_type": "execute_result"
    }
   ],
   "source": [
    "X[:10]"
   ]
  },
  {
   "cell_type": "code",
   "execution_count": 14,
   "id": "139dac17",
   "metadata": {},
   "outputs": [],
   "source": [
    "# [\n",
    "#     [0.        , 0.00999983, 0.01999867] -> [0.0299955],\n",
    "#     [0.00999983, 0.01999867, 0.0299955] -> [0.03998933],\n",
    "#     [0.01999867, 0.0299955 , 0.03998933] -> [0.04997917]\n",
    "#     ...\n",
    "# ]"
   ]
  },
  {
   "cell_type": "code",
   "execution_count": 15,
   "id": "643ba233",
   "metadata": {},
   "outputs": [],
   "source": [
    "X_train, X_test = X[:2500], X[2500:]"
   ]
  },
  {
   "cell_type": "code",
   "execution_count": 16,
   "id": "65209c6b",
   "metadata": {},
   "outputs": [],
   "source": [
    "model = Sequential()\n",
    "model.add(SimpleRNN(units=64, activation='tanh'))\n",
    "model.add(Dense(1))"
   ]
  },
  {
   "cell_type": "code",
   "execution_count": 17,
   "id": "dd1b9899",
   "metadata": {},
   "outputs": [],
   "source": [
    "model.compile(loss='mean_absolute_error', optimizer='adam')"
   ]
  },
  {
   "cell_type": "code",
   "execution_count": 19,
   "id": "7c247f35",
   "metadata": {},
   "outputs": [],
   "source": [
    "XT, yT = [], []\n",
    "for i in range(len(X_train) - 30):\n",
    "    d = i + 30\n",
    "    XT.append(X_train[i:d,])\n",
    "    yT.append(X_train[d])"
   ]
  },
  {
   "cell_type": "code",
   "execution_count": 20,
   "id": "4533683a",
   "metadata": {},
   "outputs": [],
   "source": [
    "Xt, yt = [], []\n",
    "for i in range(len(X_test) - 30):\n",
    "    d = i + 30\n",
    "    Xt.append(X_test[i:d,])\n",
    "    yt.append(X_test[d])"
   ]
  },
  {
   "cell_type": "code",
   "execution_count": 21,
   "id": "4709f9f1",
   "metadata": {},
   "outputs": [],
   "source": [
    "XT = np.array(XT)\n",
    "Xt = np.array(Xt)"
   ]
  },
  {
   "cell_type": "code",
   "execution_count": 22,
   "id": "f4169b8e",
   "metadata": {},
   "outputs": [
    {
     "data": {
      "text/plain": [
       "(2470, 30)"
      ]
     },
     "execution_count": 22,
     "metadata": {},
     "output_type": "execute_result"
    }
   ],
   "source": [
    "XT.shape"
   ]
  },
  {
   "cell_type": "code",
   "execution_count": 23,
   "id": "8f14126c",
   "metadata": {},
   "outputs": [
    {
     "data": {
      "text/plain": [
       "array([41.22, 40.93, 42.88, 43.1 , 42.96, 42.19, 41.92, 41.  , 39.09,\n",
       "       35.01, 35.82, 34.44, 34.22, 34.55, 35.43, 34.94, 35.26, 35.06,\n",
       "       35.2 , 34.45, 35.01, 34.  , 33.9 , 33.01, 33.24, 33.01, 32.58,\n",
       "       32.21, 32.14, 32.62])"
      ]
     },
     "execution_count": 23,
     "metadata": {},
     "output_type": "execute_result"
    }
   ],
   "source": [
    "XT[1]"
   ]
  },
  {
   "cell_type": "code",
   "execution_count": 24,
   "id": "0fe3d391",
   "metadata": {},
   "outputs": [
    {
     "data": {
      "text/plain": [
       "33.3"
      ]
     },
     "execution_count": 24,
     "metadata": {},
     "output_type": "execute_result"
    }
   ],
   "source": [
    "yT[1]"
   ]
  },
  {
   "cell_type": "code",
   "execution_count": 25,
   "id": "dba20b9e",
   "metadata": {},
   "outputs": [],
   "source": [
    "XT = np.reshape(XT, (XT.shape[0], XT.shape[1], 1))\n",
    "Xt = np.reshape(Xt, (Xt.shape[0], Xt.shape[1], 1))"
   ]
  },
  {
   "cell_type": "code",
   "execution_count": 26,
   "id": "4d9296e8",
   "metadata": {},
   "outputs": [
    {
     "data": {
      "text/plain": [
       "(2470, 30, 1)"
      ]
     },
     "execution_count": 26,
     "metadata": {},
     "output_type": "execute_result"
    }
   ],
   "source": [
    "XT.shape"
   ]
  },
  {
   "cell_type": "code",
   "execution_count": 27,
   "id": "c333eae3",
   "metadata": {},
   "outputs": [
    {
     "data": {
      "text/plain": [
       "array([[41.22],\n",
       "       [40.93],\n",
       "       [42.88],\n",
       "       [43.1 ],\n",
       "       [42.96],\n",
       "       [42.19],\n",
       "       [41.92],\n",
       "       [41.  ],\n",
       "       [39.09],\n",
       "       [35.01],\n",
       "       [35.82],\n",
       "       [34.44],\n",
       "       [34.22],\n",
       "       [34.55],\n",
       "       [35.43],\n",
       "       [34.94],\n",
       "       [35.26],\n",
       "       [35.06],\n",
       "       [35.2 ],\n",
       "       [34.45],\n",
       "       [35.01],\n",
       "       [34.  ],\n",
       "       [33.9 ],\n",
       "       [33.01],\n",
       "       [33.24],\n",
       "       [33.01],\n",
       "       [32.58],\n",
       "       [32.21],\n",
       "       [32.14],\n",
       "       [32.62]])"
      ]
     },
     "execution_count": 27,
     "metadata": {},
     "output_type": "execute_result"
    }
   ],
   "source": [
    "XT[1]"
   ]
  },
  {
   "cell_type": "code",
   "execution_count": 28,
   "id": "0396cb97",
   "metadata": {},
   "outputs": [],
   "source": [
    "yT = np.array(yT)\n",
    "yt = np.array(yt)"
   ]
  },
  {
   "cell_type": "code",
   "execution_count": 29,
   "id": "3fd759fd",
   "metadata": {},
   "outputs": [
    {
     "name": "stdout",
     "output_type": "stream",
     "text": [
      "Epoch 1/100\n",
      "124/124 [==============================] - 2s 4ms/step - loss: 16.8119\n",
      "Epoch 2/100\n",
      "124/124 [==============================] - 0s 3ms/step - loss: 9.1921\n",
      "Epoch 3/100\n",
      "124/124 [==============================] - 0s 4ms/step - loss: 6.0717\n",
      "Epoch 4/100\n",
      "124/124 [==============================] - 0s 3ms/step - loss: 3.5491\n",
      "Epoch 5/100\n",
      "124/124 [==============================] - 0s 4ms/step - loss: 2.2592\n",
      "Epoch 6/100\n",
      "124/124 [==============================] - 0s 3ms/step - loss: 1.6165\n",
      "Epoch 7/100\n",
      "124/124 [==============================] - 0s 3ms/step - loss: 1.2675\n",
      "Epoch 8/100\n",
      "124/124 [==============================] - 0s 3ms/step - loss: 1.0208\n",
      "Epoch 9/100\n",
      "124/124 [==============================] - 0s 3ms/step - loss: 0.8667\n",
      "Epoch 10/100\n",
      "124/124 [==============================] - 0s 4ms/step - loss: 0.7477\n",
      "Epoch 11/100\n",
      "124/124 [==============================] - 1s 5ms/step - loss: 0.6974\n",
      "Epoch 12/100\n",
      "124/124 [==============================] - 1s 5ms/step - loss: 0.6095\n",
      "Epoch 13/100\n",
      "124/124 [==============================] - 1s 5ms/step - loss: 0.5830\n",
      "Epoch 14/100\n",
      "124/124 [==============================] - 1s 5ms/step - loss: 0.5495\n",
      "Epoch 15/100\n",
      "124/124 [==============================] - 1s 5ms/step - loss: 0.5280\n",
      "Epoch 16/100\n",
      "124/124 [==============================] - 1s 5ms/step - loss: 0.5242\n",
      "Epoch 17/100\n",
      "124/124 [==============================] - 1s 5ms/step - loss: 0.4942\n",
      "Epoch 18/100\n",
      "124/124 [==============================] - 1s 5ms/step - loss: 0.5047\n",
      "Epoch 19/100\n",
      "124/124 [==============================] - 1s 5ms/step - loss: 0.4875\n",
      "Epoch 20/100\n",
      "124/124 [==============================] - 1s 5ms/step - loss: 0.4850\n",
      "Epoch 21/100\n",
      "124/124 [==============================] - 1s 5ms/step - loss: 0.4854\n",
      "Epoch 22/100\n",
      "124/124 [==============================] - 1s 5ms/step - loss: 0.5094\n",
      "Epoch 23/100\n",
      "124/124 [==============================] - 1s 4ms/step - loss: 0.4539\n",
      "Epoch 24/100\n",
      "124/124 [==============================] - 1s 4ms/step - loss: 0.4508\n",
      "Epoch 25/100\n",
      "124/124 [==============================] - 1s 4ms/step - loss: 0.4332\n",
      "Epoch 26/100\n",
      "124/124 [==============================] - 1s 4ms/step - loss: 0.4337\n",
      "Epoch 27/100\n",
      "124/124 [==============================] - 1s 4ms/step - loss: 0.4408\n",
      "Epoch 28/100\n",
      "124/124 [==============================] - 1s 4ms/step - loss: 0.4376\n",
      "Epoch 29/100\n",
      "124/124 [==============================] - 1s 4ms/step - loss: 0.4310\n",
      "Epoch 30/100\n",
      "124/124 [==============================] - 1s 5ms/step - loss: 0.4287\n",
      "Epoch 31/100\n",
      "124/124 [==============================] - 1s 4ms/step - loss: 0.4270\n",
      "Epoch 32/100\n",
      "124/124 [==============================] - 1s 5ms/step - loss: 0.4452\n",
      "Epoch 33/100\n",
      "124/124 [==============================] - 1s 4ms/step - loss: 0.4242\n",
      "Epoch 34/100\n",
      "124/124 [==============================] - 1s 4ms/step - loss: 0.4267\n",
      "Epoch 35/100\n",
      "124/124 [==============================] - 1s 4ms/step - loss: 0.4199\n",
      "Epoch 36/100\n",
      "124/124 [==============================] - 1s 4ms/step - loss: 0.4295\n",
      "Epoch 37/100\n",
      "124/124 [==============================] - 1s 4ms/step - loss: 0.4276\n",
      "Epoch 38/100\n",
      "124/124 [==============================] - 1s 4ms/step - loss: 0.4312\n",
      "Epoch 39/100\n",
      "124/124 [==============================] - 1s 4ms/step - loss: 0.4318\n",
      "Epoch 40/100\n",
      "124/124 [==============================] - 1s 4ms/step - loss: 0.4360\n",
      "Epoch 41/100\n",
      "124/124 [==============================] - 1s 5ms/step - loss: 0.4366\n",
      "Epoch 42/100\n",
      "124/124 [==============================] - 1s 4ms/step - loss: 0.4253\n",
      "Epoch 43/100\n",
      "124/124 [==============================] - 1s 4ms/step - loss: 0.4273\n",
      "Epoch 44/100\n",
      "124/124 [==============================] - 1s 4ms/step - loss: 0.4176\n",
      "Epoch 45/100\n",
      "124/124 [==============================] - 1s 4ms/step - loss: 0.4402\n",
      "Epoch 46/100\n",
      "124/124 [==============================] - 1s 4ms/step - loss: 0.4257\n",
      "Epoch 47/100\n",
      "124/124 [==============================] - 1s 5ms/step - loss: 0.4252\n",
      "Epoch 48/100\n",
      "124/124 [==============================] - 1s 4ms/step - loss: 0.4274\n",
      "Epoch 49/100\n",
      "124/124 [==============================] - 1s 5ms/step - loss: 0.4199\n",
      "Epoch 50/100\n",
      "124/124 [==============================] - 1s 4ms/step - loss: 0.4180\n",
      "Epoch 51/100\n",
      "124/124 [==============================] - 1s 4ms/step - loss: 0.4211\n",
      "Epoch 52/100\n",
      "124/124 [==============================] - 1s 4ms/step - loss: 0.4373\n",
      "Epoch 53/100\n",
      "124/124 [==============================] - 1s 5ms/step - loss: 0.4284\n",
      "Epoch 54/100\n",
      "124/124 [==============================] - 1s 5ms/step - loss: 0.4183\n",
      "Epoch 55/100\n",
      "124/124 [==============================] - 1s 5ms/step - loss: 0.4348\n",
      "Epoch 56/100\n",
      "124/124 [==============================] - 1s 4ms/step - loss: 0.4225\n",
      "Epoch 57/100\n",
      "124/124 [==============================] - 1s 5ms/step - loss: 0.4254\n",
      "Epoch 58/100\n",
      "124/124 [==============================] - 1s 4ms/step - loss: 0.4266\n",
      "Epoch 59/100\n",
      "124/124 [==============================] - 1s 4ms/step - loss: 0.4275\n",
      "Epoch 60/100\n",
      "124/124 [==============================] - 1s 4ms/step - loss: 0.4145\n",
      "Epoch 61/100\n",
      "124/124 [==============================] - 1s 4ms/step - loss: 0.4178\n",
      "Epoch 62/100\n",
      "124/124 [==============================] - 1s 4ms/step - loss: 0.4316\n",
      "Epoch 63/100\n",
      "124/124 [==============================] - 1s 4ms/step - loss: 0.4161\n",
      "Epoch 64/100\n",
      "124/124 [==============================] - 1s 4ms/step - loss: 0.4347\n",
      "Epoch 65/100\n",
      "124/124 [==============================] - 1s 4ms/step - loss: 0.4288\n",
      "Epoch 66/100\n",
      "124/124 [==============================] - 1s 4ms/step - loss: 0.4327\n",
      "Epoch 67/100\n",
      "124/124 [==============================] - 1s 4ms/step - loss: 0.4170\n",
      "Epoch 68/100\n",
      "124/124 [==============================] - 1s 4ms/step - loss: 0.4213\n",
      "Epoch 69/100\n",
      "124/124 [==============================] - 1s 4ms/step - loss: 0.4263\n",
      "Epoch 70/100\n",
      "124/124 [==============================] - 1s 5ms/step - loss: 0.4192\n",
      "Epoch 71/100\n",
      "124/124 [==============================] - 1s 4ms/step - loss: 0.4233\n",
      "Epoch 72/100\n",
      "124/124 [==============================] - 1s 4ms/step - loss: 0.4267\n",
      "Epoch 73/100\n",
      "124/124 [==============================] - 1s 4ms/step - loss: 0.4183\n",
      "Epoch 74/100\n",
      "124/124 [==============================] - 1s 4ms/step - loss: 0.4217\n",
      "Epoch 75/100\n",
      "124/124 [==============================] - 1s 4ms/step - loss: 0.4144\n",
      "Epoch 76/100\n",
      "124/124 [==============================] - 1s 4ms/step - loss: 0.4267\n",
      "Epoch 77/100\n",
      "124/124 [==============================] - 1s 4ms/step - loss: 0.4209\n",
      "Epoch 78/100\n",
      "124/124 [==============================] - 1s 4ms/step - loss: 0.4195\n",
      "Epoch 79/100\n",
      "124/124 [==============================] - 1s 5ms/step - loss: 0.4243\n",
      "Epoch 80/100\n",
      "124/124 [==============================] - 1s 4ms/step - loss: 0.4242\n",
      "Epoch 81/100\n",
      "124/124 [==============================] - 1s 4ms/step - loss: 0.4209\n",
      "Epoch 82/100\n",
      "124/124 [==============================] - 1s 4ms/step - loss: 0.4102\n",
      "Epoch 83/100\n",
      "124/124 [==============================] - 1s 5ms/step - loss: 0.4246\n",
      "Epoch 84/100\n",
      "124/124 [==============================] - 1s 4ms/step - loss: 0.4373\n",
      "Epoch 85/100\n",
      "124/124 [==============================] - 1s 4ms/step - loss: 0.4194\n",
      "Epoch 86/100\n",
      "124/124 [==============================] - 1s 4ms/step - loss: 0.4322\n",
      "Epoch 87/100\n",
      "124/124 [==============================] - 1s 5ms/step - loss: 0.4141\n",
      "Epoch 88/100\n",
      "124/124 [==============================] - 1s 5ms/step - loss: 0.4276\n",
      "Epoch 89/100\n",
      "124/124 [==============================] - 1s 4ms/step - loss: 0.4284\n",
      "Epoch 90/100\n",
      "124/124 [==============================] - 1s 4ms/step - loss: 0.4246\n",
      "Epoch 91/100\n",
      "124/124 [==============================] - 1s 5ms/step - loss: 0.4248\n",
      "Epoch 92/100\n",
      "124/124 [==============================] - 1s 4ms/step - loss: 0.4122\n",
      "Epoch 93/100\n",
      "124/124 [==============================] - 1s 5ms/step - loss: 0.4282\n",
      "Epoch 94/100\n",
      "124/124 [==============================] - 1s 5ms/step - loss: 0.4282\n",
      "Epoch 95/100\n",
      "124/124 [==============================] - 1s 5ms/step - loss: 0.4155\n",
      "Epoch 96/100\n",
      "124/124 [==============================] - 1s 4ms/step - loss: 0.4274\n",
      "Epoch 97/100\n",
      "124/124 [==============================] - 1s 5ms/step - loss: 0.4281\n",
      "Epoch 98/100\n",
      "124/124 [==============================] - 1s 5ms/step - loss: 0.4199\n",
      "Epoch 99/100\n"
     ]
    },
    {
     "name": "stdout",
     "output_type": "stream",
     "text": [
      "124/124 [==============================] - 1s 4ms/step - loss: 0.4180\n",
      "Epoch 100/100\n",
      "124/124 [==============================] - 1s 4ms/step - loss: 0.4245\n"
     ]
    }
   ],
   "source": [
    "history = model.fit(XT, yT, epochs=100, batch_size=20)"
   ]
  },
  {
   "cell_type": "code",
   "execution_count": 30,
   "id": "fb43e7ff",
   "metadata": {},
   "outputs": [
    {
     "name": "stdout",
     "output_type": "stream",
     "text": [
      "16/16 [==============================] - 0s 3ms/step - loss: 3.9431\n"
     ]
    },
    {
     "data": {
      "text/plain": [
       "3.9431188106536865"
      ]
     },
     "execution_count": 30,
     "metadata": {},
     "output_type": "execute_result"
    }
   ],
   "source": [
    "model.evaluate(Xt, yt)"
   ]
  },
  {
   "cell_type": "code",
   "execution_count": 31,
   "id": "a13394f4",
   "metadata": {},
   "outputs": [
    {
     "name": "stdout",
     "output_type": "stream",
     "text": [
      "78/78 [==============================] - 0s 2ms/step\n",
      "16/16 [==============================] - 0s 2ms/step\n"
     ]
    }
   ],
   "source": [
    "XTPredicted = model.predict(XT)\n",
    "XtPredicted = model.predict(Xt)\n",
    "XFinal = np.concatenate([XTPredicted, XtPredicted], axis=0)"
   ]
  },
  {
   "cell_type": "code",
   "execution_count": 32,
   "id": "216db6f9",
   "metadata": {},
   "outputs": [
    {
     "data": {
      "text/plain": [
       "[<matplotlib.lines.Line2D at 0x290a0839fd0>]"
      ]
     },
     "execution_count": 32,
     "metadata": {},
     "output_type": "execute_result"
    },
    {
     "data": {
      "image/png": "[encoded data removed]",
      "text/plain": [
       "<Figure size 432x288 with 1 Axes>"
      ]
     },
     "metadata": {
      "needs_background": "light"
     },
     "output_type": "display_data"
    }
   ],
   "source": [
    "plt.plot(X, color='green')\n",
    "plt.plot(XFinal, color='red')"
   ]
  }
 ],
 "metadata": {
  "kernelspec": {
   "display_name": "Python 3 (ipykernel)",
   "language": "python",
   "name": "python3"
  },
  "language_info": {
   "codemirror_mode": {
    "name": "ipython",
    "version": 3
   },
   "file_extension": ".py",
   "mimetype": "text/x-python",
   "name": "python",
   "nbconvert_exporter": "python",
   "pygments_lexer": "ipython3",
   "version": "3.9.12"
  }
 },
 "nbformat": 4,
 "nbformat_minor": 5
}
